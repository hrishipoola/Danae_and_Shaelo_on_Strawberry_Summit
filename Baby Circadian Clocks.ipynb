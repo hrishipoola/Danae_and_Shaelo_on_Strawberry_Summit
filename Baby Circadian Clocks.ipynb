{
    "cells": [
        {
            "cell_type": "markdown",
            "metadata": {},
            "source": "# Baby Circadian Clocks\n\nParents of toddlers carefully guard and manage when and for how long their babies nap during the day and sleep at night. Not doing so could torpedo your night's sleep or Netflix plans and your next day's schedule. In fact, in our family, since my 2-year old son, Shaelo, naps and my 4-year old daughter, Danae, doesn't nap, a controlled circadian experiment unfolds every day. Naturally, I was curious to learn more. \n\nHere, I work with data from the C.S. Mott Children's Hospital in Ann Arbor, Michigan to answer 3 burning questions: \n\n**Question 1**: At what time do napping babies in the U.S. sleep at night?  \n**Question 2**: Is night bedtime for napping babies in the U.S. later than that of non-napping babies?\n<br>**Question 3**: Is sleep duration for napping babies in the U.S. different than that of non-napping babies? \n\nIf you're curious, check out the original study on the differences in circadian clocks of napping and non-napping babies (https://journals.plos.org/plosone/article?id=10.1371/journal.pone.0125181).  \n\nIn this analysis, I formulate clear and focused questions that detail our target populations and parameters, hypotheses, alpha, and assumptions upfront. This part is super-important in order to perform a high quality analysis, draw the right conclusions, and not go down rabbit holes. I also walk through creating relevant dataframes for each analysis and applying numpy and statsmodels functions. I use simplifying assumptions of random, independent sampling normally distributed populations of nappers and non-nappers with similar variances. As you'll see from my initial plots below looking to understand the data that the sample is fairly small and that there is a bit of deviation from these assumptions. In a future post, I'll apply unpooled standard errors and non-parametric methods (e.g., Mann-Whitney) to test our hypotheses without these assumptions. \n\nTo answer Question 1, I calculate a 95% confidence interval using both sm.stats.DescrStatsW and calculating lower and upper confidence bounds manually. To answer Question 2, I calculate a 1-sided P-value using t.cdf, t.sf, and sm.stats.ttest_ind (and halving the result). To answer Question 3, I calculate a 2-sided P-value using 1-t.cdf and sm.stats.ttest_ind. Lastly, I apply the Bonferroni Correction. \"P hacking,\" including going into the subgroups or multiple hypothesis rabbit hole, increases the chance of observing rare events, or false positives (Type 1 Error). I apply the Bonferroni Correction to correct for this and raise the bar for rejecting our null hypothesis. Equally important, I walk through how to interpret the results from the confidence intervals and hypothesis tests to generate conclusions. "
        },
        {
            "cell_type": "code",
            "execution_count": 105,
            "metadata": {},
            "outputs": [],
            "source": "import matplotlib.pyplot as plt\nimport seaborn as sns\nimport pandas as pd\nimport statsmodels.api as sm\nfrom scipy import stats\nfrom scipy.stats import t\nimport numpy as np\nimport scipy.stats.distributions as dist"
        },
        {
            "cell_type": "code",
            "execution_count": 106,
            "metadata": {},
            "outputs": [
                {
                    "data": {
                        "text/html": "<div>\n<style scoped>\n    .dataframe tbody tr th:only-of-type {\n        vertical-align: middle;\n    }\n\n    .dataframe tbody tr th {\n        vertical-align: top;\n    }\n\n    .dataframe thead th {\n        text-align: right;\n    }\n</style>\n<table border=\"1\" class=\"dataframe\">\n  <thead>\n    <tr style=\"text-align: right;\">\n      <th></th>\n      <th>id</th>\n      <th>sex</th>\n      <th>age (months)</th>\n      <th>dlmo time</th>\n      <th>days napped</th>\n      <th>napping</th>\n      <th>nap lights outl time</th>\n      <th>nap sleep onset</th>\n      <th>nap midsleep</th>\n      <th>nap sleep offset</th>\n      <th>nap wake time</th>\n      <th>nap duration</th>\n      <th>nap time in bed</th>\n      <th>night bedtime</th>\n      <th>night sleep onset</th>\n      <th>sleep onset latency</th>\n      <th>night midsleep time</th>\n      <th>night wake time</th>\n      <th>night sleep duration</th>\n      <th>night time in bed</th>\n      <th>24 h sleep duration</th>\n      <th>bedtime phase difference</th>\n      <th>sleep onset phase difference</th>\n      <th>midsleep phase difference</th>\n      <th>wake time phase difference</th>\n    </tr>\n  </thead>\n  <tbody>\n    <tr>\n      <th>0</th>\n      <td>1</td>\n      <td>female</td>\n      <td>33.7</td>\n      <td>19.24</td>\n      <td>0</td>\n      <td>0</td>\n      <td>NaN</td>\n      <td>NaN</td>\n      <td>NaN</td>\n      <td>NaN</td>\n      <td>NaN</td>\n      <td>NaN</td>\n      <td>NaN</td>\n      <td>20.45</td>\n      <td>20.68</td>\n      <td>0.23</td>\n      <td>1.92</td>\n      <td>7.17</td>\n      <td>629.4</td>\n      <td>643.0</td>\n      <td>629.4</td>\n      <td>-1.21</td>\n      <td>-1.44</td>\n      <td>6.68</td>\n      <td>11.93</td>\n    </tr>\n    <tr>\n      <th>1</th>\n      <td>2</td>\n      <td>female</td>\n      <td>31.5</td>\n      <td>18.27</td>\n      <td>0</td>\n      <td>0</td>\n      <td>NaN</td>\n      <td>NaN</td>\n      <td>NaN</td>\n      <td>NaN</td>\n      <td>NaN</td>\n      <td>NaN</td>\n      <td>NaN</td>\n      <td>19.23</td>\n      <td>19.48</td>\n      <td>0.25</td>\n      <td>1.09</td>\n      <td>6.69</td>\n      <td>672.4</td>\n      <td>700.4</td>\n      <td>672.4</td>\n      <td>-0.96</td>\n      <td>-1.21</td>\n      <td>6.82</td>\n      <td>12.42</td>\n    </tr>\n    <tr>\n      <th>2</th>\n      <td>3</td>\n      <td>male</td>\n      <td>31.9</td>\n      <td>19.14</td>\n      <td>0</td>\n      <td>0</td>\n      <td>NaN</td>\n      <td>NaN</td>\n      <td>NaN</td>\n      <td>NaN</td>\n      <td>NaN</td>\n      <td>NaN</td>\n      <td>NaN</td>\n      <td>19.60</td>\n      <td>20.05</td>\n      <td>0.45</td>\n      <td>1.29</td>\n      <td>6.53</td>\n      <td>628.8</td>\n      <td>682.6</td>\n      <td>628.8</td>\n      <td>-0.46</td>\n      <td>-0.91</td>\n      <td>6.15</td>\n      <td>11.39</td>\n    </tr>\n    <tr>\n      <th>3</th>\n      <td>4</td>\n      <td>female</td>\n      <td>31.6</td>\n      <td>19.69</td>\n      <td>0</td>\n      <td>0</td>\n      <td>NaN</td>\n      <td>NaN</td>\n      <td>NaN</td>\n      <td>NaN</td>\n      <td>NaN</td>\n      <td>NaN</td>\n      <td>NaN</td>\n      <td>19.46</td>\n      <td>19.50</td>\n      <td>0.05</td>\n      <td>1.89</td>\n      <td>8.28</td>\n      <td>766.6</td>\n      <td>784.0</td>\n      <td>766.6</td>\n      <td>0.23</td>\n      <td>0.19</td>\n      <td>6.20</td>\n      <td>12.59</td>\n    </tr>\n    <tr>\n      <th>4</th>\n      <td>5</td>\n      <td>female</td>\n      <td>33.0</td>\n      <td>19.52</td>\n      <td>0</td>\n      <td>0</td>\n      <td>NaN</td>\n      <td>NaN</td>\n      <td>NaN</td>\n      <td>NaN</td>\n      <td>NaN</td>\n      <td>NaN</td>\n      <td>NaN</td>\n      <td>19.21</td>\n      <td>19.65</td>\n      <td>0.45</td>\n      <td>1.30</td>\n      <td>6.95</td>\n      <td>678.0</td>\n      <td>718.0</td>\n      <td>678.0</td>\n      <td>0.31</td>\n      <td>-0.13</td>\n      <td>5.78</td>\n      <td>11.43</td>\n    </tr>\n  </tbody>\n</table>\n</div>",
                        "text/plain": "   id     sex  age (months)  dlmo time  days napped  napping  \\\n0   1  female          33.7      19.24            0        0   \n1   2  female          31.5      18.27            0        0   \n2   3    male          31.9      19.14            0        0   \n3   4  female          31.6      19.69            0        0   \n4   5  female          33.0      19.52            0        0   \n\n   nap lights outl time  nap sleep onset  nap midsleep  nap sleep offset  \\\n0                   NaN              NaN           NaN               NaN   \n1                   NaN              NaN           NaN               NaN   \n2                   NaN              NaN           NaN               NaN   \n3                   NaN              NaN           NaN               NaN   \n4                   NaN              NaN           NaN               NaN   \n\n   nap wake time  nap duration  nap time in bed  night bedtime  \\\n0            NaN           NaN              NaN          20.45   \n1            NaN           NaN              NaN          19.23   \n2            NaN           NaN              NaN          19.60   \n3            NaN           NaN              NaN          19.46   \n4            NaN           NaN              NaN          19.21   \n\n   night sleep onset  sleep onset latency  night midsleep time  \\\n0              20.68                 0.23                 1.92   \n1              19.48                 0.25                 1.09   \n2              20.05                 0.45                 1.29   \n3              19.50                 0.05                 1.89   \n4              19.65                 0.45                 1.30   \n\n   night wake time  night sleep duration  night time in bed  \\\n0             7.17                 629.4              643.0   \n1             6.69                 672.4              700.4   \n2             6.53                 628.8              682.6   \n3             8.28                 766.6              784.0   \n4             6.95                 678.0              718.0   \n\n   24 h sleep duration  bedtime phase difference  \\\n0                629.4                     -1.21   \n1                672.4                     -0.96   \n2                628.8                     -0.46   \n3                766.6                      0.23   \n4                678.0                      0.31   \n\n   sleep onset phase difference  midsleep phase difference  \\\n0                         -1.44                       6.68   \n1                         -1.21                       6.82   \n2                         -0.91                       6.15   \n3                          0.19                       6.20   \n4                         -0.13                       5.78   \n\n   wake time phase difference  \n0                       11.93  \n1                       12.42  \n2                       11.39  \n3                       12.59  \n4                       11.43  "
                    },
                    "execution_count": 106,
                    "metadata": {},
                    "output_type": "execute_result"
                }
            ],
            "source": "pd.set_option(\"display.max_columns\", 100)\nsleep = pd.read_csv(\"https://raw.githubusercontent.com/UMstatspy/UMStatsPy/master/Course_2/nap_no_nap.csv\")\nsleep.head(5)"
        },
        {
            "cell_type": "markdown",
            "metadata": {},
            "source": "In the variable \"Napping\", 1 represents nappers and 0 represents non-nappers. "
        },
        {
            "cell_type": "code",
            "execution_count": 107,
            "metadata": {},
            "outputs": [],
            "source": "# Convert 'night bedtime' into hourly decimalized time so we can compare differences in minutes\nsleep.loc[:,'night bedtime'] = np.floor(sleep['night bedtime'])*60 + np.round(sleep['night bedtime']%1,2 )*100"
        },
        {
            "cell_type": "code",
            "execution_count": 108,
            "metadata": {},
            "outputs": [
                {
                    "data": {
                        "text/plain": "(20, 25)"
                    },
                    "execution_count": 108,
                    "metadata": {},
                    "output_type": "execute_result"
                }
            ],
            "source": "# Check shape of dataframe. It's 20 rows x 25 columns. \nsleep.shape"
        },
        {
            "cell_type": "code",
            "execution_count": 109,
            "metadata": {},
            "outputs": [],
            "source": "# We're going to be using seaborn for plots, set style to darkgrid\nsns.set_style(\"darkgrid\")"
        },
        {
            "cell_type": "markdown",
            "metadata": {},
            "source": "A box plot of night bedtime for nappers and non-nappers shows that there is a difference in spread. For this analysis, I'm going to make the simplifying assumption that the variance in each group is the same and will use a pooled standard error. In a future post, I'll revisit this data and apply an unpooled standard error to test our hypotheses without this assumption. "
        },
        {
            "cell_type": "code",
            "execution_count": 110,
            "metadata": {},
            "outputs": [
                {
                    "data": {
                        "text/plain": "<matplotlib.axes._subplots.AxesSubplot at 0x7f7d7b2fdb70>"
                    },
                    "execution_count": 110,
                    "metadata": {},
                    "output_type": "execute_result"
                },
                {
                    "data": {
                        "image/png": "[encoded data removed]",
                        "text/plain": "<Figure size 576x360 with 1 Axes>"
                    },
                    "metadata": {},
                    "output_type": "display_data"
                }
            ],
            "source": "# Box plot of night bedtime\nplt.figure(figsize=(8, 5))\nsns.boxplot(sleep[\"napping\"], sleep[\"night bedtime\"], palette = \"Blues\")"
        },
        {
            "cell_type": "code",
            "execution_count": 111,
            "metadata": {},
            "outputs": [],
            "source": "# Create dataframes for bedtimes for nappers and non-nappers\nnap_bedtime = sleep.loc[sleep.napping == 1, \"night bedtime\"]\nno_nap_bedtime = sleep.loc[sleep.napping == 0, \"night bedtime\"]"
        },
        {
            "cell_type": "markdown",
            "metadata": {},
            "source": "A histogram shows that the distribution isn't exactly normal, with non-nappers having a right skew. The sample size of 20 is relatively small, but for the purposes of this analysis, I will make the simpifying assumption that the central limit theorom holds and the distribution is normal. In a future post, I'll revisit this data and try non-parametric methods (e.g., Mann-Whitney) to test our hypotheses without these assumptions.  "
        },
        {
            "cell_type": "code",
            "execution_count": 112,
            "metadata": {},
            "outputs": [
                {
                    "data": {
                        "image/png": "[encoded data removed]",
                        "text/plain": "<Figure size 720x360 with 1 Axes>"
                    },
                    "metadata": {},
                    "output_type": "display_data"
                }
            ],
            "source": "# Histogram of nappers' and non-nappers' night bedtime\nplt.figure(figsize=(10, 5))\nsns.distplot(nap_bedtime)\nsns.distplot(no_nap_bedtime)\nplt.title(\"Histogram of Bedtimes for Nappers and Non-Nappers\")\nplt.show()"
        },
        {
            "cell_type": "markdown",
            "metadata": {},
            "source": "## Question 1: At what time do napping babies in the U.S. fall sleep at night?   "
        },
        {
            "cell_type": "markdown",
            "metadata": {},
            "source": "#### Method 1: Calculate 95% CI using sm.stats.DescrStatsW"
        },
        {
            "cell_type": "code",
            "execution_count": 113,
            "metadata": {},
            "outputs": [
                {
                    "data": {
                        "text/plain": "(1213.991362327341, 1252.1419710059922)"
                    },
                    "execution_count": 113,
                    "metadata": {},
                    "output_type": "execute_result"
                }
            ],
            "source": "# Generate 95% confidence interval using (95% is the default)\nsm.stats.DescrStatsW(nap_bedtime).tconfint_mean()"
        },
        {
            "cell_type": "markdown",
            "metadata": {},
            "source": "#### Method 2: Calculate lower and upper bounds for 95% CI manually"
        },
        {
            "cell_type": "code",
            "execution_count": 114,
            "metadata": {},
            "outputs": [
                {
                    "name": "stdout",
                    "output_type": "stream",
                    "text": "1233.0666666666666\n"
                }
            ],
            "source": "# Mean night bedtime for nappers\nnap_mean_bedtime = nap_bedtime.mean()\nprint(nap_mean_bedtime)"
        },
        {
            "cell_type": "code",
            "execution_count": 115,
            "metadata": {},
            "outputs": [
                {
                    "name": "stdout",
                    "output_type": "stream",
                    "text": "15\n"
                }
            ],
            "source": "# Sample size of nappers\nn = len(nap_bedtime)\nprint(n)"
        },
        {
            "cell_type": "code",
            "execution_count": 116,
            "metadata": {},
            "outputs": [
                {
                    "name": "stdout",
                    "output_type": "stream",
                    "text": "8.893800230479801\n"
                }
            ],
            "source": "# Standard error of nappers\nse = (nap_bedtime.std())/np.sqrt(n)\nprint(se)"
        },
        {
            "cell_type": "code",
            "execution_count": 117,
            "metadata": {},
            "outputs": [
                {
                    "name": "stdout",
                    "output_type": "stream",
                    "text": "14\n"
                }
            ],
            "source": "# Calculate degrees of freedom\ndf = n-1\nprint(df)"
        },
        {
            "cell_type": "code",
            "execution_count": 118,
            "metadata": {},
            "outputs": [
                {
                    "name": "stdout",
                    "output_type": "stream",
                    "text": "2.1447866879169273\n"
                }
            ],
            "source": "# T star of nappers for 2-tail and df = 14 using stats.t.ppf (1-0.025, df)\nt_star = stats.t.ppf(1-0.025, df)\nprint(t_star)"
        },
        {
            "cell_type": "code",
            "execution_count": 119,
            "metadata": {},
            "outputs": [
                {
                    "data": {
                        "text/plain": "(1213.991362327341, 1252.1419710059922)"
                    },
                    "execution_count": 119,
                    "metadata": {},
                    "output_type": "execute_result"
                }
            ],
            "source": "# Lower confidence bound and upper confidence bound\nlcb = nap_mean_bedtime - t_star * se\nucb = nap_mean_bedtime + t_star * se\n(lcb,ucb)"
        },
        {
            "cell_type": "markdown",
            "metadata": {},
            "source": "As you can see that by using the automated sm.stats.DescrStatsW method or manually calculating the lower and upper confidence bounds I get the same result. After converting the decimalized time to hours, I can say that with 95% confidence, the true population mean night bedtime of napping babies in the U.S. is between 20:13 and 20:52. (Another way of saying this is that if I were to repeat this same statistical sample many times and generate confidence intervals, 95% of those intervals would include the true mean night bedtime of the all babies in the U.S.)"
        },
        {
            "cell_type": "markdown",
            "metadata": {},
            "source": "## Question 2: Is night bedtime for napping babies in the U.S. later than that of non-napping babies?\nTo answer this, I'll use a hypothesis test. Our null hypothesis is that the night bedtime is the same for both populations while our alternative hypothesis is that night bedtime is later for napping babies.\n\n**Population 1**: All napping babies in the U.S.\n<br>**Population 2**: All non-napping babies in the U.S.\n<br>**Parameter**: $\\mu_1 - \\mu_2$, night bedtime in minutes\n<br>**Null Hypothesis**: $\\mu_1 - \\mu_2$ = 0\n<br>**Alternative Hypothesis**: $\\mu_1 - \\mu_2$ > 0 (1-sided test so we'll need a 1-sided p-value)\n<br>**$\\alpha$** = 0.025\n<br>**Assumptions**: Random independent sample, variance similar among groups, roughly normal population distribution\n\n"
        },
        {
            "cell_type": "markdown",
            "metadata": {},
            "source": "#### Method 1: Calculate the 1-sided p-value using 1-t.cdf (\"cumulative density function\")"
        },
        {
            "cell_type": "code",
            "execution_count": 120,
            "metadata": {},
            "outputs": [
                {
                    "name": "stdout",
                    "output_type": "stream",
                    "text": "1233.0666666666666\n"
                }
            ],
            "source": "# Mean night bedtime for nappers\nnap_mean_bedtime = nap_bedtime.mean()\nprint(nap_mean_bedtime)"
        },
        {
            "cell_type": "code",
            "execution_count": 121,
            "metadata": {},
            "outputs": [
                {
                    "name": "stdout",
                    "output_type": "stream",
                    "text": "1191.0\n"
                }
            ],
            "source": "# Mean night bedtime for non-nappers\nno_nap_mean_bedtime = no_nap_bedtime.mean()\nprint(no_nap_mean_bedtime)"
        },
        {
            "cell_type": "code",
            "execution_count": 122,
            "metadata": {},
            "outputs": [
                {
                    "name": "stdout",
                    "output_type": "stream",
                    "text": "42.066666666666606\n"
                }
            ],
            "source": "# Difference in mean night bedtimes in minutes\ndiff_mean = nap_mean_bedtime - no_nap_mean_bedtime\nprint(diff_mean)"
        },
        {
            "cell_type": "markdown",
            "metadata": {},
            "source": "In our sample, nappers fell asleep, on average, 42 minutes later than non-nappers."
        },
        {
            "cell_type": "code",
            "execution_count": 123,
            "metadata": {},
            "outputs": [
                {
                    "name": "stdout",
                    "output_type": "stream",
                    "text": "15\n"
                }
            ],
            "source": "# Sample size of nappers\nn1 = len(nap_bedtime)\nprint(n1)"
        },
        {
            "cell_type": "code",
            "execution_count": 124,
            "metadata": {},
            "outputs": [
                {
                    "name": "stdout",
                    "output_type": "stream",
                    "text": "5\n"
                }
            ],
            "source": "# Sample size of non-nappers\nn2 = len(no_nap_bedtime)\nprint(n2)"
        },
        {
            "cell_type": "code",
            "execution_count": 125,
            "metadata": {},
            "outputs": [
                {
                    "name": "stdout",
                    "output_type": "stream",
                    "text": "34.445540177143954\n"
                }
            ],
            "source": "# Standard deviation of night bedtime for nappers\ns1 = nap_bedtime.std()\nprint(s1)"
        },
        {
            "cell_type": "code",
            "execution_count": 126,
            "metadata": {},
            "outputs": [
                {
                    "name": "stdout",
                    "output_type": "stream",
                    "text": "34.445540177143954\n"
                }
            ],
            "source": "# Standard deviation of night bedtime for non-nappers\ns2 = nap_bedtime.std()\nprint(s2)"
        },
        {
            "cell_type": "markdown",
            "metadata": {},
            "source": "As we highlighted above, we'll make the simplifying assumption that the variance in sleep time nappers and non-nappers is about the same so we can use the pooled standard error (in the future, we'll apply other methods without this assumption):  \n\n$s.e.(\\bar{X}_{nap} - \\bar{X}_{no\\ nap}) = \\sqrt{\\frac{(n_1-1)s_1^2 + (n_2-1)s_2^2}{n_1+n_2-2}(\\frac{1}{n_1}+\\frac{1}{n_2})}$"
        },
        {
            "cell_type": "code",
            "execution_count": 127,
            "metadata": {},
            "outputs": [
                {
                    "name": "stdout",
                    "output_type": "stream",
                    "text": "17.787600460959602\n"
                }
            ],
            "source": "# Pooled standard error using the formula above\npooled_se = np.sqrt((((n1-1)*(s1**2)+(n2-1)*(s2**2))/(n1+n2-2))*((1/n1)+(1/n2)))\nprint(pooled_se)"
        },
        {
            "cell_type": "code",
            "execution_count": 128,
            "metadata": {},
            "outputs": [
                {
                    "name": "stdout",
                    "output_type": "stream",
                    "text": "2.3649433075020396\n"
                }
            ],
            "source": "# Calculate T-Statistic, or the number of standard error bars we are from the null hypothesis mean difference of 0\nt_statistic = diff_mean/pooled_se\nprint(t_statistic)"
        },
        {
            "cell_type": "code",
            "execution_count": 129,
            "metadata": {},
            "outputs": [
                {
                    "name": "stdout",
                    "output_type": "stream",
                    "text": "18\n"
                }
            ],
            "source": "# Calculate degrees of freedom. Since we're using two samples, we'll subtract 2\ndf = n1 + n2 - 2\nprint(df)"
        },
        {
            "cell_type": "code",
            "execution_count": 130,
            "metadata": {},
            "outputs": [
                {
                    "name": "stdout",
                    "output_type": "stream",
                    "text": "0.014734030327685166\n"
                }
            ],
            "source": "# Calculate 1-sided p-value. In Question 3 further below, I'll calculate a 2-sided p-value.\np_value = 1-t.cdf(t_statistic, df)\nprint(p_value)"
        },
        {
            "cell_type": "markdown",
            "metadata": {},
            "source": "#### Method 2: Calculate p-value using t.sf (\"survival function\"), which is another way of calculating a 1-sided p-value instead of using 1-t.cdf"
        },
        {
            "cell_type": "code",
            "execution_count": 131,
            "metadata": {},
            "outputs": [
                {
                    "name": "stdout",
                    "output_type": "stream",
                    "text": "0.014734030327685109\n"
                }
            ],
            "source": "# Calculate the 1-sided p-value using t.sf(T-statistic, df)\np_value = t.sf(t_statistic, df)\nprint(p_value)"
        },
        {
            "cell_type": "markdown",
            "metadata": {},
            "source": "#### Method 3: Calculate the p-value using sm.stats.ttest_ind"
        },
        {
            "cell_type": "code",
            "execution_count": 132,
            "metadata": {},
            "outputs": [
                {
                    "name": "stdout",
                    "output_type": "stream",
                    "text": "T-statistic, P-value, df\n"
                },
                {
                    "data": {
                        "text/plain": "(2.367160052079275, 0.029334902861805394, 18.0)"
                    },
                    "execution_count": 132,
                    "metadata": {},
                    "output_type": "execute_result"
                }
            ],
            "source": "# Calculate T-statistic and P-value automatically using sm.stats.ttest_ind. Note, however, these values are for a 2-sided test.\n# In order to get the 1-sided p-value, which we need here, we simply multiply the result by 0.5. \n\nprint(\"T-statistic, P-value, df\")\nsm.stats.ttest_ind(nap_bedtime, no_nap_bedtime)"
        },
        {
            "cell_type": "code",
            "execution_count": 133,
            "metadata": {},
            "outputs": [
                {
                    "name": "stdout",
                    "output_type": "stream",
                    "text": "0.01466745\n"
                }
            ],
            "source": "# Calculate 1-sided P-value, which is what we need here for our hypothesis test \none_sided_p = 0.5 * 0.0293349\nprint(one_sided_p)"
        },
        {
            "cell_type": "markdown",
            "metadata": {},
            "source": "All three methods generate the same p-value of 0.0147, meaning that, if our null hypothesis is true (nappers sleep at the same time as non-nappers), there's only a 1.47% probability we would have gotten a difference like this from our statistical sample. \n\nOur p-value is is less than our $\\alpha$ = 0.025, meaning that, based on our evidence, we can reject our null hypothesis and say that the bedtime of napping babies in the U.S. is significantly later than that of non-napping babies (in fact, 42 minutes later in our sample)."
        },
        {
            "cell_type": "markdown",
            "metadata": {},
            "source": "## Question 3: Is sleep duration for napping babies in the U.S. different than that of non-napping babies? \n\n\nTo answer this, I'll use a hypothesis test. Our null hypothesis is that the night sleep duration is the same for both populations while our alternative hypothesis is that night sleep duration is different for the two populations.\n\n**Population 1**: All napping babies in the U.S.\n<br>**Population 2**: All non-napping babies in the U.S.\n<br>**Parameter**: $\\mu_1 - \\mu_2$, night sleep duration in minutes\n<br>**Null Hypothesis**: $\\mu_1 - \\mu_2$ = 0\n<br>**Alternative Hypothesis**: $\\mu_1 - \\mu_2$ $\\neq$ 0 (2-sided test so we'll need a 2-sided p-value)\n<br>**$\\alpha$** = 0.05\n<br>**Assumptions**: Random independent sample, variance similar among groups, roughly normal population distribution"
        },
        {
            "cell_type": "markdown",
            "metadata": {},
            "source": "#### Method 1: Calculate the 2-sided p-value using t.cdf (\"cumulative density function\")"
        },
        {
            "cell_type": "code",
            "execution_count": 149,
            "metadata": {},
            "outputs": [],
            "source": "# First, let's create new dataframes for night sleep duration for nappers and non-nappers\nnap_sleep = sleep.loc[sleep.napping == 1, \"night sleep duration\"]\nno_nap_sleep = sleep.loc[sleep.napping == 0, \"night sleep duration\"]"
        },
        {
            "cell_type": "code",
            "execution_count": 153,
            "metadata": {},
            "outputs": [
                {
                    "name": "stdout",
                    "output_type": "stream",
                    "text": "606.272\n"
                }
            ],
            "source": "# Mean night sleep duration for nappers\nnap_mean_sleep = nap_sleep.mean()\nprint(nap_mean_sleep)"
        },
        {
            "cell_type": "code",
            "execution_count": 152,
            "metadata": {},
            "outputs": [
                {
                    "name": "stdout",
                    "output_type": "stream",
                    "text": "675.04\n"
                }
            ],
            "source": "# Mean night sleep duration for non-nappers\nno_nap_mean_sleep = no_nap_sleep.mean()\nprint(nap_mean_sleep)"
        },
        {
            "cell_type": "code",
            "execution_count": 154,
            "metadata": {},
            "outputs": [
                {
                    "name": "stdout",
                    "output_type": "stream",
                    "text": "68.76799999999992\n"
                }
            ],
            "source": "# Difference in mean night bedtimes in minutes\ndiff_mean = no_nap_mean_sleep - nap_mean_sleep\nprint(diff_mean)"
        },
        {
            "cell_type": "markdown",
            "metadata": {},
            "source": "In our sample, non-nappers slept, on average, 69 minutes longer at night than did nappers. "
        },
        {
            "cell_type": "code",
            "execution_count": 155,
            "metadata": {},
            "outputs": [
                {
                    "name": "stdout",
                    "output_type": "stream",
                    "text": "15\n"
                }
            ],
            "source": "# Sample size of nappers\nn1 = len(nap_sleep)\nprint(n1)"
        },
        {
            "cell_type": "code",
            "execution_count": 156,
            "metadata": {},
            "outputs": [
                {
                    "name": "stdout",
                    "output_type": "stream",
                    "text": "5\n"
                }
            ],
            "source": "# Sample size of non-nappers\nn2 = len(no_nap_sleep)\nprint(n2)"
        },
        {
            "cell_type": "code",
            "execution_count": 157,
            "metadata": {},
            "outputs": [
                {
                    "name": "stdout",
                    "output_type": "stream",
                    "text": "43.858825174807016\n"
                }
            ],
            "source": "# Standard deviation of 24 hour sleep for nappers\ns1 = nap_sleep.std()\nprint(s1)"
        },
        {
            "cell_type": "code",
            "execution_count": 158,
            "metadata": {},
            "outputs": [
                {
                    "name": "stdout",
                    "output_type": "stream",
                    "text": "56.169635925471354\n"
                }
            ],
            "source": "# Standard deviation of 24 hour sleep for non-nappers\ns2 = no_nap_sleep.std()\nprint(s2)"
        },
        {
            "cell_type": "code",
            "execution_count": 159,
            "metadata": {},
            "outputs": [
                {
                    "name": "stdout",
                    "output_type": "stream",
                    "text": "24.20604872065383\n"
                }
            ],
            "source": "# Pooled standard error\npooled_se = np.sqrt((((n1-1)*(s1**2)+(n2-1)*(s2**2))/(n1+n2-2))*((1/n1)+(1/n2)))\nprint(pooled_se)"
        },
        {
            "cell_type": "code",
            "execution_count": 160,
            "metadata": {},
            "outputs": [
                {
                    "name": "stdout",
                    "output_type": "stream",
                    "text": "2.8409428070482057\n"
                }
            ],
            "source": "# Calculate T-Statistic, or the number of standard error bars we are from the null hypothesis mean difference of 0\nt_statistic = diff_mean/pooled_se\nprint(t_statistic)"
        },
        {
            "cell_type": "code",
            "execution_count": 161,
            "metadata": {},
            "outputs": [
                {
                    "name": "stdout",
                    "output_type": "stream",
                    "text": "18\n"
                }
            ],
            "source": "# Calculate degrees of freedom. Since we're using two samples, we'll subtract 2\ndf = n1 + n2 - 2\nprint(df)"
        },
        {
            "cell_type": "code",
            "execution_count": 162,
            "metadata": {},
            "outputs": [
                {
                    "name": "stdout",
                    "output_type": "stream",
                    "text": "0.010840884590074484\n"
                }
            ],
            "source": "# Calculate 2-sided p-value using 1-t.cdf(np.abs(T-statistic), df) * 2\np_value = (1-t.cdf(np.abs(t_statistic), df))*2\nprint(p_value)"
        },
        {
            "cell_type": "markdown",
            "metadata": {},
            "source": "#### Method 2: Calculate the p-value using sm.stats.ttest_ind"
        },
        {
            "cell_type": "code",
            "execution_count": 163,
            "metadata": {},
            "outputs": [
                {
                    "name": "stdout",
                    "output_type": "stream",
                    "text": "T-statistic, P-value, df\n"
                },
                {
                    "data": {
                        "text/plain": "(-2.84094280704821, 0.010840884590074436, 18.0)"
                    },
                    "execution_count": 163,
                    "metadata": {},
                    "output_type": "execute_result"
                }
            ],
            "source": "# Calculate T-statistic and 2-sided P-value automatically using sm.stats.ttest_ind.\n\nprint(\"T-statistic, P-value, df\")\nsm.stats.ttest_ind(nap_sleep, no_nap_sleep)"
        },
        {
            "cell_type": "markdown",
            "metadata": {},
            "source": "Both methods generate a P-value of 0.01084, meaning that, if our null hypothesis is true (nappers sleep the same amount of time at night as non-nappers), there's only a 1.08% probability we would have gotten a difference in night sleep duration like the one we got from our statistical sample. \n\nOur p-value is less than our $\\alpha$ = 0.05, meaning, that based on our evidence, we can reject our null hypothesis and say that night sleep duration is significantly different for napping babies in the U.S. than non-napping babies (in fact, 69 minutes longer for non-nappers in our sample).  "
        },
        {
            "cell_type": "markdown",
            "metadata": {},
            "source": "## Bonferroni Correction\n\nPerforming multiple hypotheses increases the chance of observing rare events, or false positives (Type 1 Error), when making comparisons. The Bonferroni Correction corrects for this and raises the bar for rejecting the null by generating a corrected $\\alpha$, dividing our original $\\alpha$ by the number of hypotheses, in our case 2. "
        },
        {
            "cell_type": "code",
            "execution_count": 148,
            "metadata": {},
            "outputs": [
                {
                    "name": "stdout",
                    "output_type": "stream",
                    "text": "0.0125\n"
                }
            ],
            "source": "alpha = 0.025\nnum_hyp = 2\nbenf_correction = alpha / num_hyp\nprint(benf_correction)"
        },
        {
            "cell_type": "markdown",
            "metadata": {},
            "source": "For our 1st hypothesis (Question 2), our p-value of 0.0147 is now greater than our corrected $\\alpha$ of 0.0125. Therefore, unlike our initial conclusion, we would fail to reject our null hypothesis and say that napping babies do not fall asleep at a later time than non-napping babies.  "
        },
        {
            "cell_type": "code",
            "execution_count": 164,
            "metadata": {},
            "outputs": [
                {
                    "name": "stdout",
                    "output_type": "stream",
                    "text": "0.025\n"
                }
            ],
            "source": "alpha = 0.05\nnum_hyp = 2\nbenf_correction = alpha / num_hyp\nprint(benf_correction)"
        },
        {
            "cell_type": "markdown",
            "metadata": {},
            "source": "For our 2nd hypothesis (Question 3), our p-value of 0.0108 is still less than our corrected $\\alpha$ of 0.025. Therefore, we sould stick with our initial conclusion and reject our null hypothesis and say that non-napping babies in the U.S. sleep for 69 minutes longer at night than do napping babies in the U.S. "
        },
        {
            "cell_type": "code",
            "execution_count": null,
            "metadata": {},
            "outputs": [],
            "source": ""
        }
    ],
    "metadata": {
        "kernelspec": {
            "display_name": "Python 3.6",
            "language": "python",
            "name": "python3"
        },
        "language_info": {
            "codemirror_mode": {
                "name": "ipython",
                "version": 3
            },
            "file_extension": ".py",
            "mimetype": "text/x-python",
            "name": "python",
            "nbconvert_exporter": "python",
            "pygments_lexer": "ipython3",
            "version": "3.6.9"
        }
    },
    "nbformat": 4,
    "nbformat_minor": 1
}